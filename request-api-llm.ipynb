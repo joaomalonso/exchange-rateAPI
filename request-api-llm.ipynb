{
  "cells": [
    {
      "cell_type": "code",
      "execution_count": null,
      "id": "573f99f2",
      "metadata": {
        "colab": {
          "base_uri": "https://localhost:8080/"
        },
        "id": "573f99f2",
        "outputId": "343a02fd-2444-44af-b673-7dd3d0d426fd"
      },
      "outputs": [
        {
          "output_type": "stream",
          "name": "stdout",
          "text": [
            "Requirement already satisfied: pyarrow in /usr/local/lib/python3.12/dist-packages (18.1.0)\n"
          ]
        }
      ],
      "source": [
        "%pip install pyarrow\n",
        "!pip install -q google-generativeai"
      ]
    },
    {
      "cell_type": "code",
      "execution_count": null,
      "id": "8bcc7e5d",
      "metadata": {
        "id": "8bcc7e5d"
      },
      "outputs": [],
      "source": [
        "import requests\n",
        "import pandas as pd\n",
        "import os\n",
        "from datetime import datetime\n",
        "import google.generativeai as genai"
      ]
    },
    {
      "cell_type": "code",
      "execution_count": null,
      "id": "f6422d2f",
      "metadata": {
        "colab": {
          "base_uri": "https://localhost:8080/"
        },
        "id": "f6422d2f",
        "outputId": "a1c9ce9a-45ca-4e0e-9a61-11117f468269"
      },
      "outputs": [
        {
          "output_type": "stream",
          "name": "stdout",
          "text": [
            "{'result': 'success', 'documentation': 'https://www.exchangerate-api.com/docs', 'terms_of_use': 'https://www.exchangerate-api.com/terms', 'time_last_update_unix': 1757289601, 'time_last_update_utc': 'Mon, 08 Sep 2025 00:00:01 +0000', 'time_next_update_unix': 1757376001, 'time_next_update_utc': 'Tue, 09 Sep 2025 00:00:01 +0000', 'base_code': 'USD', 'conversion_rates': {'USD': 1, 'AED': 3.6725, 'AFN': 68.3702, 'ALL': 83.0152, 'AMD': 382.6258, 'ANG': 1.79, 'AOA': 916.8291, 'ARS': 1365.42, 'AUD': 1.5267, 'AWG': 1.79, 'AZN': 1.699, 'BAM': 1.6703, 'BBD': 2.0, 'BDT': 121.689, 'BGN': 1.6704, 'BHD': 0.376, 'BIF': 2984.3854, 'BMD': 1.0, 'BND': 1.2859, 'BOB': 6.9137, 'BRL': 5.417, 'BSD': 1.0, 'BTN': 88.2484, 'BWP': 13.7071, 'BYN': 3.3438, 'BZD': 2.0, 'CAD': 1.3831, 'CDF': 2896.9773, 'CHF': 0.7992, 'CLP': 969.7867, 'CNY': 7.1289, 'COP': 3975.4504, 'CRC': 505.7869, 'CUP': 24.0, 'CVE': 94.1701, 'CZK': 20.8281, 'DJF': 177.721, 'DKK': 6.3734, 'DOP': 63.2856, 'DZD': 129.79, 'EGP': 48.5213, 'ERN': 15.0, 'ETB': 142.0347, 'EUR': 0.8538, 'FJD': 2.2466, 'FKP': 0.7412, 'FOK': 6.3736, 'GBP': 0.7411, 'GEL': 2.6931, 'GGP': 0.7412, 'GHS': 12.0346, 'GIP': 0.7412, 'GMD': 72.945, 'GNF': 8704.5285, 'GTQ': 7.6645, 'GYD': 209.174, 'HKD': 7.7987, 'HNL': 26.1909, 'HRK': 6.4347, 'HTG': 130.8719, 'HUF': 335.4337, 'IDR': 16405.589, 'ILS': 3.3366, 'IMP': 0.7412, 'INR': 88.2484, 'IQD': 1308.9909, 'IRR': 43088.4188, 'ISK': 122.2203, 'JEP': 0.7412, 'JMD': 160.1302, 'JOD': 0.709, 'JPY': 148.2226, 'KES': 129.1128, 'KGS': 87.3828, 'KHR': 4012.5418, 'KID': 1.5268, 'KMF': 420.1573, 'KRW': 1387.6609, 'KWD': 0.3054, 'KYD': 0.8333, 'KZT': 536.8532, 'LAK': 21714.0058, 'LBP': 89500.0, 'LKR': 301.7489, 'LRD': 200.4837, 'LSL': 17.6091, 'LYD': 5.4271, 'MAD': 9.0826, 'MDL': 16.6731, 'MGA': 4474.594, 'MKD': 52.6141, 'MMK': 2099.1772, 'MNT': 3568.1212, 'MOP': 8.0325, 'MRU': 39.9472, 'MUR': 46.1481, 'MVR': 15.4298, 'MWK': 1735.5227, 'MXN': 18.7098, 'MYR': 4.225, 'MZN': 63.5685, 'NAD': 17.6091, 'NGN': 1524.5379, 'NIO': 36.7596, 'NOK': 10.0258, 'NPR': 141.1974, 'NZD': 1.6985, 'OMR': 0.3845, 'PAB': 1.0, 'PEN': 3.5209, 'PGK': 4.1668, 'PHP': 56.7374, 'PKR': 283.5761, 'PLN': 3.6315, 'PYG': 7224.6448, 'QAR': 3.64, 'RON': 4.3368, 'RSD': 100.1188, 'RUB': 81.2819, 'RWF': 1452.2022, 'SAR': 3.75, 'SBD': 8.2981, 'SCR': 14.7877, 'SDG': 458.7331, 'SEK': 9.39, 'SGD': 1.2856, 'SHP': 0.7412, 'SLE': 23.2903, 'SLL': 23290.2526, 'SOS': 571.1341, 'SRD': 38.9132, 'SSP': 4544.9512, 'STN': 20.9238, 'SYP': 12893.4449, 'SZL': 17.6091, 'THB': 32.1145, 'TJS': 9.4947, 'TMT': 3.4992, 'TND': 2.9025, 'TOP': 2.3562, 'TRY': 41.2685, 'TTD': 6.7759, 'TVD': 1.5268, 'TWD': 30.4328, 'TZS': 2491.1344, 'UAH': 41.21, 'UGX': 3504.9733, 'UYU': 40.0736, 'UZS': 12641.5426, 'VES': 154.0108, 'VND': 26257.7697, 'VUV': 119.2768, 'WST': 2.7504, 'XAF': 560.2097, 'XCD': 2.7, 'XCG': 1.79, 'XDR': 0.73, 'XOF': 560.2097, 'XPF': 101.9136, 'YER': 239.8263, 'ZAR': 17.6055, 'ZMW': 23.9319, 'ZWL': 26.714}}\n"
          ]
        }
      ],
      "source": [
        "API_KEY = 'c1c0056f***73ab417'\n",
        "BASE_URL = f'https://v6.exchangerate-api.com/v6/{API_KEY}'\n",
        "DATA = '2025/08/25' # Substitua pela data que você quiser\n",
        "\n",
        "URL = f'{BASE_URL}/latest/USD'\n",
        "\n",
        "try:\n",
        "    response = requests.get(URL)\n",
        "    response.raise_for_status()  # Isso vai levantar um erro para códigos de status HTTP 4xx/5xx\n",
        "\n",
        "    data = response.json()\n",
        "    print(data)\n",
        "\n",
        "except requests.exceptions.HTTPError as err:\n",
        "    print(f\"Ocorreu um erro HTTP: {err}\")\n",
        "except Exception as err:\n",
        "    print(f\"Ocorreu um erro: {err}\")"
      ]
    },
    {
      "cell_type": "code",
      "execution_count": null,
      "id": "aa7574cc",
      "metadata": {
        "id": "aa7574cc"
      },
      "outputs": [],
      "source": [
        "# Salvar o retorno como arquivo JSON na pasta bronze, particionando por timestamp\n",
        "\n",
        "timestamp = datetime.now().strftime(\"%Y%m%d\")\n",
        "output_dir = f\"bronze/{timestamp}\"\n",
        "os.makedirs(output_dir, exist_ok=True)\n",
        "\n",
        "with open(f\"{output_dir}/retorno_api.json\", \"w\", encoding=\"utf-8\") as f:\n",
        "    import json\n",
        "    json.dump(data, f, ensure_ascii=False, indent=4)"
      ]
    },
    {
      "cell_type": "code",
      "execution_count": null,
      "id": "69e8e638",
      "metadata": {
        "id": "69e8e638"
      },
      "outputs": [],
      "source": [
        "# Ler o JSON salvo e salvar como Parquet na pasta silver\n",
        "output_dir = f\"bronze/{timestamp}\"\n",
        "\n",
        "with open(f\"{output_dir}/retorno_api.json\", \"r\", encoding=\"utf-8\") as f:\n",
        "    json_data = json.load(f)\n",
        "\n",
        "# Normaliza o JSON para DataFrame (ajuste conforme necessário)\n",
        "df = pd.json_normalize(json_data['conversion_rates'])\n",
        "\n",
        "silver_dir = f\"silver/{timestamp}\"\n",
        "os.makedirs(silver_dir, exist_ok=True)\n",
        "df.to_parquet(f\"{silver_dir}/retorno_api.parquet\", index=False)"
      ]
    },
    {
      "cell_type": "code",
      "execution_count": null,
      "id": "afbdef17",
      "metadata": {
        "colab": {
          "base_uri": "https://localhost:8080/"
        },
        "id": "afbdef17",
        "outputId": "66726045-36ea-4099-838f-63989b332566"
      },
      "outputs": [
        {
          "output_type": "stream",
          "name": "stdout",
          "text": [
            "       ARS     BOB    BRL       CLP        COP     PEN      UYU       VES  \\\n",
            "0  1365.42  6.9137  5.417  969.7867  3975.4504  3.5209  40.0736  154.0108   \n",
            "\n",
            "       GYD        PYG      SRD  \n",
            "0  209.174  7224.6448  38.9132  \n"
          ]
        }
      ],
      "source": [
        "#print(f\"O valor do dólar sobre o euro é: {df['EUR'].values[0]}\")\n",
        "\n",
        "# Filtrar e mostrar apenas as moedas da América do Sul\n",
        "south_american_currencies = ['ARS', 'BOB', 'BRL', 'CLP', 'COP', 'PEN', 'UYU', 'VES', 'GYD', 'PYG', 'SRD']\n",
        "df_south_america = df[south_american_currencies]\n",
        "print(df_south_america)"
      ]
    },
    {
      "cell_type": "code",
      "source": [
        "os.environ[\"GOOGLE_API_KEY\"] = \"AIzaSyAlLRzqGkbT**rgzuIAO42Tp1HmR8\""
      ],
      "metadata": {
        "id": "fhVHKBffQlHG"
      },
      "id": "fhVHKBffQlHG",
      "execution_count": null,
      "outputs": []
    },
    {
      "cell_type": "code",
      "source": [
        "genai.configure(api_key=os.environ[\"GOOGLE_API_KEY\"])"
      ],
      "metadata": {
        "id": "AwD8heQAQwNZ"
      },
      "id": "AwD8heQAQwNZ",
      "execution_count": null,
      "outputs": []
    },
    {
      "cell_type": "code",
      "source": [
        "# Carregar o modelo Gemini\n",
        "model = genai.GenerativeModel(\"gemini-1.5-flash\")\n",
        "\n",
        "def gerar_insights_gemini(df, n_linhas=10):\n",
        "    \"\"\"\n",
        "    Gera insights usando Google Gemini Free API\n",
        "    :param df: DataFrame a ser analisado\n",
        "    :param n_linhas: Número de linhas do dataset para enviar ao modelo\n",
        "    \"\"\"\n",
        "    sample = df.head(n_linhas).to_string()\n",
        "    prompt = f\"\"\"\n",
        "    Você é um analista de dados. Analise o seguinte dataset de moedas da América do Sul em relação ao dólar:\n",
        "\n",
        "    {sample}\n",
        "\n",
        "    Gere insights claros e objetivos:\n",
        "    - Quais moedas estão mais valorizadas e mais desvalorizadas?\n",
        "    - Quais padrões interessantes podem ser observados?\n",
        "    - Quais análises adicionais poderiam ser feitas com este dataset?\n",
        "    - O dólar comparado com o valor do Real está alto. O que pode influenciar esse valor? Isso acompanha os valores das outras moedas da america do sul?\n",
        "    - Você pode pontuar eventos mais recentes que contribuem para a desvalorização do real em relação ao Dolar? Considerando que a data da cotação como {timestamp }\n",
        "\n",
        "    \"\"\"\n",
        "\n",
        "    response = model.generate_content(prompt)\n",
        "    return response.text\n",
        "\n",
        "# Exemplo de uso:\n",
        "insights = gerar_insights_gemini(df_south_america)\n",
        "print(\"=== Insights gerados pelo Gemini ===\")\n",
        "print(insights)\n"
      ],
      "metadata": {
        "colab": {
          "base_uri": "https://localhost:8080/",
          "height": 870
        },
        "id": "qTxC8rFiQz8K",
        "outputId": "04a5327b-ac78-4d4e-a1f7-2db48c6a44b1"
      },
      "id": "qTxC8rFiQz8K",
      "execution_count": null,
      "outputs": [
        {
          "output_type": "stream",
          "name": "stdout",
          "text": [
            "=== Insights gerados pelo Gemini ===\n",
            "## Análise de Moedas da América do Sul em relação ao Dólar (2025-09-08 - Dados Fornecidos)\n",
            "\n",
            "O dataset apresenta as taxas de câmbio de diversas moedas sul-americanas em relação ao dólar americano em uma data específica (presumidamente 08/09/2025).  A análise se baseia exclusivamente nos dados fornecidos, que representam apenas um ponto no tempo e não permitem conclusões a longo prazo.\n",
            "\n",
            "**1. Moedas Mais e Menos Valorizadas:**\n",
            "\n",
            "* **Mais Valorizadas (em relação ao dólar):**  O PEN (Sol Peruano) e o BOB (Boliviano) apresentam as menores taxas de câmbio, indicando que são as moedas mais valorizadas em relação ao dólar entre as listadas.\n",
            "\n",
            "* **Menos Valorizadas (em relação ao dólar):** O ARS (Peso Argentino), o VES (Bolívar Venezuelano), e o PYG (Guarani Paraguaio) exibem as maiores taxas de câmbio, indicando forte desvalorização frente ao dólar.  Vale notar a grande diferença entre o VES e as demais moedas, sugerindo uma situação econômica excepcionalmente desafiadora na Venezuela.\n",
            "\n",
            "**2. Padrões Interessantes:**\n",
            "\n",
            "* **Alta Variabilidade:** Existe uma grande variação nas taxas de câmbio entre as moedas, refletindo as diferentes realidades econômicas dos países.\n",
            "\n",
            "* **Grupo de Moedas Similares:**  As taxas de câmbio do BRL, CLP, COP e UYU são relativamente próximas entre si, sugerindo potencialmente similaridades macroeconômicas, embora seja necessário mais dados para confirmar esta hipótese.\n",
            "\n",
            "**3. Análises Adicionais:**\n",
            "\n",
            "Para uma análise mais completa e robusta, seriam necessárias:\n",
            "\n",
            "* **Série Temporal:** Dados de taxas de câmbio ao longo do tempo permitiriam identificar tendências, volatilidade e correlações entre as moedas.\n",
            "* **Indicadores Econômicos:**  Incluir dados como inflação, taxa de juros, PIB, reservas internacionais, etc., permitiria analisar as relações entre os indicadores macroeconômicos e as taxas de câmbio.\n",
            "* **Análise de Regressão:** Testar a relação entre as taxas de câmbio e os indicadores econômicos para identificar fatores de influência.\n",
            "* **Dados de Negociação:** O volume de negociação, e dados do mercado de futuros, ajudam a entender a dinâmica do mercado cambial.\n",
            "\n",
            "**4. Dólar vs. Real (BRL):**\n",
            "\n",
            "A taxa de câmbio do Real em relação ao dólar (BRL 5.417) indica uma desvalorização da moeda brasileira.  Muitos fatores podem influenciar essa taxa, incluindo:\n",
            "\n",
            "* **Balança comercial:** Déficit na balança comercial pode pressionar a desvalorização do Real.\n",
            "* **Política monetária:**  Taxas de juros, inflação e intervenções do Banco Central no mercado cambial influenciam diretamente a taxa de câmbio.\n",
            "* **Confiança dos investidores:**  Incertezas políticas e econômicas podem levar a uma saída de capitais e desvalorização da moeda.\n",
            "* **Preço das commodities:** O Brasil é um grande exportador de commodities. Preços internacionais destas influenciam o fluxo de divisas e a valorização/desvalorização do Real.\n",
            "* **Inflação:** Inflação alta no Brasil comparada com outros países, geralmente leva à desvalorização do Real.\n",
            "\n",
            "\n",
            "**Comparação com outras moedas sul-americanas:** A desvalorização do Real parece estar em linha com a desvalorização observada em outras moedas, como o Peso Argentino (ARS) e o Guarani Paraguaio (PYG). Mas o UYU (Peso Uruguaio) e o CLP (Peso Chileno) mostram desvalorizações menores em comparação ao Real.  Sem séries temporais, não é possível dizer com certeza se o movimento do Real acompanha exatamente o das demais moedas.\n",
            "\n",
            "\n",
            "**5. Eventos Recentes (Considerando data como 2025-09-08):**\n",
            "\n",
            "Não tenho acesso a notícias em tempo real para apontar eventos específicos de 2025 que tenham contribuído para a desvalorização do Real. Para obter esta informação, seria necessário consultar notícias econômicas e financeiras da época.  Possíveis eventos que poderiam ter impactado negativamente o Real incluem:  crises políticas, incerteza econômica, choque externo (como uma guerra ou crise global), ou políticas governamentais com impacto negativo na confiança do mercado.\n",
            "\n",
            "**Conclusão:**\n",
            "\n",
            "A análise apresenta uma visão superficial, baseada em um único ponto de dados.  Uma análise mais profunda requer uma série temporal e dados econômicos adicionais para obter insights mais relevantes e confiáveis.\n",
            "\n"
          ]
        }
      ]
    },
    {
      "cell_type": "code",
      "source": [],
      "metadata": {
        "id": "-RPG2kaTVRdo"
      },
      "id": "-RPG2kaTVRdo",
      "execution_count": null,
      "outputs": []
    }
  ],
  "metadata": {
    "kernelspec": {
      "display_name": "Python 3",
      "language": "python",
      "name": "python3"
    },
    "language_info": {
      "codemirror_mode": {
        "name": "ipython",
        "version": 3
      },
      "file_extension": ".py",
      "mimetype": "text/x-python",
      "name": "python",
      "nbconvert_exporter": "python",
      "pygments_lexer": "ipython3",
      "version": "3.10.12"
    },
    "colab": {
      "provenance": []
    }
  },
  "nbformat": 4,
  "nbformat_minor": 5
}
